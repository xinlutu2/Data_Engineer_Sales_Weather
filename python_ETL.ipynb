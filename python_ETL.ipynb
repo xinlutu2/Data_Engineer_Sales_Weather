{
 "cells": [
  {
   "cell_type": "code",
   "execution_count": 103,
   "metadata": {},
   "outputs": [],
   "source": [
    "# https://www.kaggle.com/selfishgene/historical-hourly-weather-data\n",
    "# https://www.shanelynn.ie/summarising-aggregation-and-grouping-data-in-python-pandas/\n",
    "# https://datatofish.com/create-database-python-using-sqlite3/\n",
    "import pandas as pd\n",
    "import sqlite3"
   ]
  },
  {
   "cell_type": "code",
   "execution_count": 104,
   "metadata": {},
   "outputs": [],
   "source": [
    "####################################### Extract and Transform #############################################\n",
    "sales = pd.read_csv(\"morse.csv\")\n",
    "temperature = pd.read_csv(\"historical-hourly-weather-data/temperature.csv\")\n",
    "sales.columns = ['sale_date','item_name','net_quantity']\n",
    "# Remove timestamp\n",
    "sales['sale_date'] = sales['sale_date'].str.split(' ',expand=True)[0]"
   ]
  },
  {
   "cell_type": "code",
   "execution_count": 105,
   "metadata": {},
   "outputs": [],
   "source": [
    "temperature = temperature[['datetime','San Francisco']]\n",
    "temperature.columns = ['date','avg_sf_temperature']\n",
    "# F = 1.8(K - 273) + 32, convert Kelvin To Fahrenheit\n",
    "temperature['avg_sf_temperature'] = 1.8*(temperature['avg_sf_temperature']-273)+32\n",
    "# Remove timestamp\n",
    "temperature['date'] = temperature['date'].str.split(' ',expand=True)[0]\n",
    "# convert yy-mm-dd to mm/dd/yy\n",
    "temperature['date'] = pd.to_datetime(temperature['date']).dt.strftime('%m/%d/%Y')"
   ]
  },
  {
   "cell_type": "code",
   "execution_count": 108,
   "metadata": {},
   "outputs": [],
   "source": [
    "# Get daily average temperature\n",
    "temperature = temperature.groupby('date', as_index=False).agg({\"avg_sf_temperature\": \"mean\"})\n",
    "# Round to whole degrees\n",
    "temperature['avg_sf_temperature'] = temperature['avg_sf_temperature'].round()"
   ]
  },
  {
   "cell_type": "code",
   "execution_count": 109,
   "metadata": {},
   "outputs": [
    {
     "data": {
      "text/html": [
       "<div>\n",
       "<style scoped>\n",
       "    .dataframe tbody tr th:only-of-type {\n",
       "        vertical-align: middle;\n",
       "    }\n",
       "\n",
       "    .dataframe tbody tr th {\n",
       "        vertical-align: top;\n",
       "    }\n",
       "\n",
       "    .dataframe thead th {\n",
       "        text-align: right;\n",
       "    }\n",
       "</style>\n",
       "<table border=\"1\" class=\"dataframe\">\n",
       "  <thead>\n",
       "    <tr style=\"text-align: right;\">\n",
       "      <th></th>\n",
       "      <th>date</th>\n",
       "      <th>avg_sf_temperature</th>\n",
       "    </tr>\n",
       "  </thead>\n",
       "  <tbody>\n",
       "    <tr>\n",
       "      <th>0</th>\n",
       "      <td>01/01/2013</td>\n",
       "      <td>44.0</td>\n",
       "    </tr>\n",
       "    <tr>\n",
       "      <th>1</th>\n",
       "      <td>01/01/2014</td>\n",
       "      <td>49.0</td>\n",
       "    </tr>\n",
       "    <tr>\n",
       "      <th>2</th>\n",
       "      <td>01/01/2015</td>\n",
       "      <td>48.0</td>\n",
       "    </tr>\n",
       "  </tbody>\n",
       "</table>\n",
       "</div>"
      ],
      "text/plain": [
       "         date  avg_sf_temperature\n",
       "0  01/01/2013                44.0\n",
       "1  01/01/2014                49.0\n",
       "2  01/01/2015                48.0"
      ]
     },
     "execution_count": 109,
     "metadata": {},
     "output_type": "execute_result"
    }
   ],
   "source": [
    "temperature.head(3)"
   ]
  },
  {
   "cell_type": "code",
   "execution_count": 110,
   "metadata": {},
   "outputs": [
    {
     "data": {
      "text/html": [
       "<div>\n",
       "<style scoped>\n",
       "    .dataframe tbody tr th:only-of-type {\n",
       "        vertical-align: middle;\n",
       "    }\n",
       "\n",
       "    .dataframe tbody tr th {\n",
       "        vertical-align: top;\n",
       "    }\n",
       "\n",
       "    .dataframe thead th {\n",
       "        text-align: right;\n",
       "    }\n",
       "</style>\n",
       "<table border=\"1\" class=\"dataframe\">\n",
       "  <thead>\n",
       "    <tr style=\"text-align: right;\">\n",
       "      <th></th>\n",
       "      <th>sale_date</th>\n",
       "      <th>item_name</th>\n",
       "      <th>net_quantity</th>\n",
       "    </tr>\n",
       "  </thead>\n",
       "  <tbody>\n",
       "    <tr>\n",
       "      <th>0</th>\n",
       "      <td>04/22/2016</td>\n",
       "      <td>Latte</td>\n",
       "      <td>1</td>\n",
       "    </tr>\n",
       "    <tr>\n",
       "      <th>1</th>\n",
       "      <td>09/20/2016</td>\n",
       "      <td>Latte</td>\n",
       "      <td>1</td>\n",
       "    </tr>\n",
       "    <tr>\n",
       "      <th>2</th>\n",
       "      <td>12/27/2016</td>\n",
       "      <td>Cappuccino, Unknown</td>\n",
       "      <td>1</td>\n",
       "    </tr>\n",
       "  </tbody>\n",
       "</table>\n",
       "</div>"
      ],
      "text/plain": [
       "    sale_date            item_name  net_quantity\n",
       "0  04/22/2016                Latte             1\n",
       "1  09/20/2016                Latte             1\n",
       "2  12/27/2016  Cappuccino, Unknown             1"
      ]
     },
     "execution_count": 110,
     "metadata": {},
     "output_type": "execute_result"
    }
   ],
   "source": [
    "sales.head(3)"
   ]
  },
  {
   "cell_type": "code",
   "execution_count": 111,
   "metadata": {},
   "outputs": [
    {
     "data": {
      "text/plain": [
       "<sqlite3.Cursor at 0x1065bf8f0>"
      ]
     },
     "execution_count": 111,
     "metadata": {},
     "output_type": "execute_result"
    }
   ],
   "source": [
    "####################################### Load to SQLite #############################################\n",
    "# create 'sales.db' if not exists\n",
    "conn = sqlite3.connect('sales.db')\n",
    "c = conn.cursor()\n",
    "c.execute('''drop table sales_2016''')\n",
    "c.execute('''drop table temperature_master''')"
   ]
  },
  {
   "cell_type": "code",
   "execution_count": 112,
   "metadata": {},
   "outputs": [
    {
     "data": {
      "text/plain": [
       "<sqlite3.Cursor at 0x1065bf8f0>"
      ]
     },
     "execution_count": 112,
     "metadata": {},
     "output_type": "execute_result"
    }
   ],
   "source": [
    "# Create table - sales_2016\n",
    "c.execute('''CREATE TABLE if not exists sales_2016\n",
    "             (sale_date text, item_name text, net_quantity integer)''')\n",
    "# Create table - sales_2016\n",
    "c.execute('''CREATE TABLE if not exists temperature_master\n",
    "             (date text, avg_sf_temperature integer)''')"
   ]
  },
  {
   "cell_type": "code",
   "execution_count": 113,
   "metadata": {},
   "outputs": [],
   "source": [
    "# Save (commit) the changes\n",
    "conn.commit()"
   ]
  },
  {
   "cell_type": "code",
   "execution_count": 114,
   "metadata": {},
   "outputs": [],
   "source": [
    "sales.to_sql('sales_2016', conn, if_exists='append', index = False)\n",
    "temperature.to_sql('temperature_master', conn, if_exists='append', index = False)"
   ]
  },
  {
   "cell_type": "code",
   "execution_count": null,
   "metadata": {},
   "outputs": [],
   "source": []
  }
 ],
 "metadata": {
  "kernelspec": {
   "display_name": "Python 3",
   "language": "python",
   "name": "python3"
  },
  "language_info": {
   "codemirror_mode": {
    "name": "ipython",
    "version": 3
   },
   "file_extension": ".py",
   "mimetype": "text/x-python",
   "name": "python",
   "nbconvert_exporter": "python",
   "pygments_lexer": "ipython3",
   "version": "3.6.5"
  }
 },
 "nbformat": 4,
 "nbformat_minor": 2
}
